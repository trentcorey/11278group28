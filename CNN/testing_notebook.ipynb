{
 "cells": [
  {
   "cell_type": "code",
   "execution_count": 1,
   "metadata": {},
   "outputs": [
    {
     "name": "stdout",
     "output_type": "stream",
     "text": [
      "['test', 'apples']\n"
     ]
    }
   ],
   "source": [
    "import os\n",
    "from CNN_Proj_Utils import util_fetch_labels\n",
    "from CNN_Proj_Utils import util_image_read\n",
    "\n",
    "\n",
    "directory = r'images'\n",
    "image_filenames = []\n",
    "for entry in os.scandir(directory):\n",
    "    if (entry.path.endswith(\".jpg\") and entry.is_file()):\n",
    "        image_filenames.append(entry.name)\n",
    "        util_image_read.read_image(entry.path)\n",
    "\n",
    "lines = util_fetch_labels.testing_read()\n",
    "print(lines)\n",
    "\n"
   ]
  }
 ],
 "metadata": {
  "interpreter": {
   "hash": "aa46e5c35974658094c909c474206afea3901c6e5896df9c427c8de50dea2a09"
  },
  "kernelspec": {
   "display_name": "Python 3.8.11 64-bit ('base': conda)",
   "name": "python3"
  },
  "language_info": {
   "codemirror_mode": {
    "name": "ipython",
    "version": 3
   },
   "file_extension": ".py",
   "mimetype": "text/x-python",
   "name": "python",
   "nbconvert_exporter": "python",
   "pygments_lexer": "ipython3",
   "version": "3.8.11"
  },
  "orig_nbformat": 4
 },
 "nbformat": 4,
 "nbformat_minor": 2
}
