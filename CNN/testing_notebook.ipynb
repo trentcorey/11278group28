{
 "cells": [
  {
   "cell_type": "code",
   "execution_count": 1,
   "metadata": {},
   "outputs": [
    {
     "name": "stdout",
     "output_type": "stream",
     "text": [
      "['apple', 'pear', 'orange']\n",
      "0\n",
      "images\\apple.jpg\n",
      "images\\apple2.jpg\n"
     ]
    }
   ],
   "source": [
    "import os\n",
    "from CNN_Proj_Utils import util_fetch_classes\n",
    "from CNN_Proj_Utils import util_image_read\n",
    "\n",
    "input_class = \"apple\"\n",
    "lines = util_fetch_classes.get_classes() \n",
    "print(lines)\n",
    "class_index = lines.index(input_class)\n",
    "print(class_index)\n",
    "\n",
    "directory = r'images' # Sets directory to images\n",
    "for entry in os.scandir(directory):\n",
    "    if (entry.path.endswith(\".jpg\") and entry.is_file()):\n",
    "        print(entry.path)\n",
    "        util_image_read.read_image(entry.path, entry.name, class_index) # reads image, creates annotation file.\n",
    "\n",
    "# Current code implementation reads entire folder. This will be for testing purposes, as this will no be applicable\n",
    "# in how the final project is implemented.\n",
    "\n",
    "# Plan: folder, new_image\n",
    "#       Then, annotate new image\n",
    "#       Then, put image and annotation into images folder\n",
    "#       Done."
   ]
  }
 ],
 "metadata": {
  "interpreter": {
   "hash": "aa46e5c35974658094c909c474206afea3901c6e5896df9c427c8de50dea2a09"
  },
  "kernelspec": {
   "display_name": "Python 3.8.11 64-bit ('base': conda)",
   "name": "python3"
  },
  "language_info": {
   "codemirror_mode": {
    "name": "ipython",
    "version": 3
   },
   "file_extension": ".py",
   "mimetype": "text/x-python",
   "name": "python",
   "nbconvert_exporter": "python",
   "pygments_lexer": "ipython3",
   "version": "3.8.11"
  },
  "orig_nbformat": 4
 },
 "nbformat": 4,
 "nbformat_minor": 2
}
