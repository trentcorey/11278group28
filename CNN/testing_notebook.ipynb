{
 "cells": [
  {
   "cell_type": "code",
   "execution_count": 2,
   "metadata": {},
   "outputs": [
    {
     "name": "stdout",
     "output_type": "stream",
     "text": [
      "['apple', 'pear', 'orange']\n",
      "0\n",
      "images\\apple.jpg\n",
      "images\\apple2.jpg\n"
     ]
    }
   ],
   "source": [
    "import os\n",
    "from CNN_Proj_Utils import util_fetch_classes\n",
    "from CNN_Proj_Utils import util_image_read\n",
    "\n",
    "input_class = \"apple\"\n",
    "lines = util_fetch_classes.testing_read() \n",
    "print(lines)\n",
    "class_index = lines.index(input_class)\n",
    "print(class_index)\n",
    "\n",
    "directory = r'images' # Sets directory to images\n",
    "image_filenames = [] \n",
    "for entry in os.scandir(directory):\n",
    "    if (entry.path.endswith(\".jpg\") and entry.is_file()):\n",
    "        print(entry.path)\n",
    "        image_filenames.append(entry.name)\n",
    "        util_image_read.read_image(entry.path, entry.name, class_index) # reads image, creates annotation file.\n",
    "    \n"
   ]
  }
 ],
 "metadata": {
  "interpreter": {
   "hash": "aa46e5c35974658094c909c474206afea3901c6e5896df9c427c8de50dea2a09"
  },
  "kernelspec": {
   "display_name": "Python 3.8.11 64-bit ('base': conda)",
   "name": "python3"
  },
  "language_info": {
   "codemirror_mode": {
    "name": "ipython",
    "version": 3
   },
   "file_extension": ".py",
   "mimetype": "text/x-python",
   "name": "python",
   "nbconvert_exporter": "python",
   "pygments_lexer": "ipython3",
   "version": "3.8.11"
  },
  "orig_nbformat": 4
 },
 "nbformat": 4,
 "nbformat_minor": 2
}
