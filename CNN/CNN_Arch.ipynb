{
 "cells": [
  {
   "cell_type": "code",
   "execution_count": 2,
   "metadata": {},
   "outputs": [
    {
     "name": "stdout",
     "output_type": "stream",
     "text": [
      "Total number of contours detected: 176\n"
     ]
    }
   ],
   "source": [
    "import numpy as np\n",
    "from matplotlib import pyplot as plt\n",
    "import cv2\n",
    "\n",
    "# read image\n",
    "image = cv2.imread('Apple.jpg')\n",
    "gray = cv2.cvtColor(image, cv2.COLOR_BGR2GRAY)\n",
    "im_hei, im_wid, channels = image.shape\n",
    "\n",
    "\n",
    "# Convert the grayscale image to binary\n",
    "ret, binary = cv2.threshold(gray, 100, 255, cv2.THRESH_OTSU)\n",
    "inverted_binary = ~binary\n",
    "\n",
    "contours, hierarchy = cv2.findContours(inverted_binary, cv2.RETR_TREE, cv2.CHAIN_APPROX_SIMPLE)\n",
    "with_contours = cv2.drawContours(image, contours, -1,(255,0,255),3)\n",
    "\n",
    "print('Total number of contours detected: ' + str(len(contours)))\n",
    "\n",
    "# Draw a bounding box around all contours\n",
    "for c in contours:\n",
    "    x, y, w, h = cv2.boundingRect(c)\n",
    "\n",
    "    # Make sure contour area is large enough\n",
    "    if (cv2.contourArea(c)) > 10000:\n",
    "        cv2.rectangle(with_contours,(x,y), (x+w,y+h), (255,0,0), 5)\n",
    "        \n",
    "        f = open(\"img_labels.txt\", \"a\")\n",
    "        f.write(str(x/im_wid) + \" \" + str(y/im_hei) + \" \" + str(w/im_wid) + \" \" + str(h/im_hei) + \"\\n\")\n",
    "        f.close()\n",
    "         \n",
    "cv2.imshow('Bounding Box', with_contours)\n",
    "cv2.waitKey(0)\n",
    "cv2.destroyAllWindows()"
   ]
  }
 ],
 "metadata": {
  "interpreter": {
   "hash": "aa46e5c35974658094c909c474206afea3901c6e5896df9c427c8de50dea2a09"
  },
  "kernelspec": {
   "display_name": "Python 3.8.11 64-bit ('base': conda)",
   "name": "python3"
  },
  "language_info": {
   "codemirror_mode": {
    "name": "ipython",
    "version": 3
   },
   "file_extension": ".py",
   "mimetype": "text/x-python",
   "name": "python",
   "nbconvert_exporter": "python",
   "pygments_lexer": "ipython3",
   "version": "3.8.11"
  },
  "orig_nbformat": 4
 },
 "nbformat": 4,
 "nbformat_minor": 2
}
